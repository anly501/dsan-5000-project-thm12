{
  "cells": [
    {
      "cell_type": "markdown",
      "metadata": {},
      "source": [
        "# Data Exploration"
      ]
    },
    {
      "cell_type": "markdown",
      "metadata": {},
      "source": [
        "## Data Overview and Understanding"
      ]
    },
    {
      "cell_type": "markdown",
      "metadata": {},
      "source": [
        "### NBA Player Combine and Season Data\n",
        "\n",
        "Placeholder for description and reasoning"
      ]
    },
    {
      "cell_type": "code",
      "execution_count": 15,
      "metadata": {},
      "outputs": [
        {
          "name": "stdout",
          "output_type": "stream",
          "text": [
            "Standing Vertical JumpSummary Stats (inches)\n",
            "count    766.000000\n",
            "mean      29.695561\n",
            "std        2.987566\n",
            "min       21.500000\n",
            "25%       27.500000\n",
            "50%       29.500000\n",
            "75%       31.500000\n",
            "max       41.500000\n",
            "Name: STANDING.VERTICAL, dtype: float64\n",
            "------------------------------------\n",
            "Maximum Vertical Jump Summary Stats (inches)\n",
            "count    764.000000\n",
            "mean      35.261780\n",
            "std        3.538618\n",
            "min       25.000000\n",
            "25%       33.000000\n",
            "50%       35.500000\n",
            "75%       37.500000\n",
            "max       48.000000\n",
            "Name: MAX.VERTICAL, dtype: float64\n",
            "------------------------------------\n",
            "Points Per Game Summary Stats\n",
            "count    880.000000\n",
            "mean      11.009432\n",
            "std        9.256269\n",
            "min        0.000000\n",
            "25%        3.700000\n",
            "50%        8.750000\n",
            "75%       16.100000\n",
            "max       48.300000\n",
            "Name: PPG, dtype: float64\n",
            "------------------------------------\n"
          ]
        }
      ],
      "source": [
        "import pandas as pd\n",
        "import numpy as np\n",
        "\n",
        "nba = pd.read_csv(\"../../../data/01-modified-data/cleaned_NBA_combined.csv\")\n",
        "\n",
        "print(\"Standing Vertical JumpSummary Stats (inches)\") \n",
        "print(nba[\"STANDING.VERTICAL\"].describe())\n",
        "print(\"------------------------------------\")\n",
        "\n",
        "print(\"Maximum Vertical Jump Summary Stats (inches)\")\n",
        "print(nba[\"MAX.VERTICAL\"].describe())\n",
        "print(\"------------------------------------\")\n",
        "\n",
        "print(\"Points Per Game Summary Stats\")\n",
        "print(nba[\"PPG\"].describe())\n",
        "print(\"------------------------------------\")\n"
      ]
    },
    {
      "cell_type": "code",
      "execution_count": 8,
      "metadata": {},
      "outputs": [
        {
          "name": "stdout",
          "output_type": "stream",
          "text": [
            "     total_bill   tip     sex smoker   day    time  size\n",
            "0         16.99  1.01  Female     No   Sun  Dinner     2\n",
            "1         10.34  1.66    Male     No   Sun  Dinner     3\n",
            "2         21.01  3.50    Male     No   Sun  Dinner     3\n",
            "3         23.68  3.31    Male     No   Sun  Dinner     2\n",
            "4         24.59  3.61  Female     No   Sun  Dinner     4\n",
            "..          ...   ...     ...    ...   ...     ...   ...\n",
            "239       29.03  5.92    Male     No   Sat  Dinner     3\n",
            "240       27.18  2.00  Female    Yes   Sat  Dinner     2\n",
            "241       22.67  2.00    Male    Yes   Sat  Dinner     2\n",
            "242       17.82  1.75    Male     No   Sat  Dinner     2\n",
            "243       18.78  3.00  Female     No  Thur  Dinner     2\n",
            "\n",
            "[244 rows x 7 columns]\n"
          ]
        }
      ],
      "source": [
        "# Import seaborn\n",
        "import seaborn as sns\n",
        "import matplotlib.pyplot as plt\n",
        "\n",
        "# Apply the default theme\n",
        "sns.set_theme(style=\"whitegrid\", palette=\"pastel\")\n",
        "\n",
        "# Load an example dataset\n",
        "tips = sns.load_dataset(\"tips\")\n",
        "print(tips)"
      ]
    },
    {
      "cell_type": "markdown",
      "metadata": {},
      "source": [
        "## Data visualization "
      ]
    },
    {
      "cell_type": "code",
      "execution_count": null,
      "metadata": {},
      "outputs": [],
      "source": [
        "\n",
        "# Create a visualization\n",
        "sns.relplot(\n",
        "    data=tips,\n",
        "    x=\"total_bill\", y=\"tip\", col=\"time\",\n",
        "    hue=\"smoker\", style=\"smoker\", size=\"size\",\n",
        ")\n",
        "\n",
        "plt.show()"
      ]
    },
    {
      "cell_type": "markdown",
      "metadata": {},
      "source": [
        "## Hypothesis Generation and Insights"
      ]
    }
  ],
  "metadata": {
    "kernelspec": {
      "display_name": "Python 3 (ipykernel)",
      "language": "python",
      "name": "python3"
    },
    "language_info": {
      "codemirror_mode": {
        "name": "ipython",
        "version": 3
      },
      "file_extension": ".py",
      "mimetype": "text/x-python",
      "name": "python",
      "nbconvert_exporter": "python",
      "pygments_lexer": "ipython3",
      "version": "3.10.9"
    }
  },
  "nbformat": 4,
  "nbformat_minor": 4
}
