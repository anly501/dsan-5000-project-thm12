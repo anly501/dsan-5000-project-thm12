{
  "cells": [
    {
      "cell_type": "markdown",
      "metadata": {},
      "source": [
        "# Tabular Gathering\n",
        "\n",
        "### NBA combine data\n",
        "\n",
        "This data was gathered from Kaggle and represents the NBA draft combine testing results from the year 2000 to 2022. The NBA combine is an event in which NBA draft prospects are tested and measured on a number of physical and athletic attributes, including their standing vertical jump and their running vertical jump (max vertical jump). It is one of the few events in sports in which players' physical attributes and athletic abilities are measured in an official and objective manner. I selected this dataset as it will be useful to measure whether there are other physical predictors for vertical jump, as well as for merging with season and game data to see whether vertical jump has an affect on in game performance.\n",
        "\n",
        "[Source Link](https://www.kaggle.com/datasets/marcusfern/nba-draft-combine)\n",
        "\n",
        "[Link to dataset](https://github.com/anly501/dsan-5000-project-thm12/blob/main/data/00-raw-data/NBA_Draft_Combine.csv)\n",
        "\n",
        "![](images/nba_combine.png)\n",
        "\n",
        "### NBA player season data\n",
        "\n",
        "This data was gathered from an API using R. The data represents NBA player data for each season from 2009 to 2023. It includes averages and totals from stats like points, rebounds, assists, and other game stats. I included this dataset as I plan to merge it with the previous NBA combine data to see if vertical jump has any relation to in game success for certain stats. I obtained a dataset with every players stats from each season by looping through years and querying the data from each season and then adding it to a single dataset. \n",
        "\n",
        "[Source Link](https://sportsdata.io/developers/api-documentation/nba#/sports-data-feeds)\n",
        "\n",
        "[Link to dataset](https://github.com/anly501/dsan-5000-project-thm12/blob/main/data/00-raw-data/api_nba_player_season.csv)\n",
        "\n",
        "[Link to code](https://github.com/anly501/dsan-5000-project-thm12/blob/main/codes/01-data-gathering/data_gathering%26cleaning.Rmd)\n",
        "\n",
        "![](images/nba_api.png)\n",
        "\n",
        "\n",
        "\n",
        "### NFL combine data\n",
        "\n",
        "This data was gathered from Kaggle and represents the NFL combine testing results from the year 2000 to 2018. The NFL combine is the same concept as the NBA combine, and is actually much more well known and covered than the NBA combine, as many positions in football rely heavily on physical attributes and abilities. I selected this dataset to compare the numbers to the NBA combine and compare how vertical jump for basketball players compares to other athletes, and the NFL is the only other league with a widely covered combine.\n",
        "\n",
        "[Source Link](https://www.kaggle.com/datasets/savvastj/nfl-combine-data)\n",
        "\n",
        "[Link to dataset](https://github.com/anly501/dsan-5000-project-thm12/blob/main/data/00-raw-data/nfl_combine.csv)\n",
        "\n",
        "![](images/nfl.png)\n",
        "\n",
        "### Olympic Track and Field data\n",
        "\n",
        "This data was also gathered from Kaggle and represents the results from all Olympic track & field events from 1896 to 2016. I plan to specifically look at the data from the high jump event. While the measurement system is different for high jumping, I would still like to examine how results have changed over time, and if any insights can be realized specifically with nationality.\n",
        "\n",
        "[Source Link](https://www.kaggle.com/datasets/jayrav13/olympic-track-field-results)\n",
        "\n",
        "[Link to dataset](https://github.com/anly501/dsan-5000-project-thm12/blob/main/data/00-raw-data/olympic_track.csv)\n",
        "\n",
        "![](images/olympic.png)\n",
        "\n",
        "### Stretching Study data\n",
        "\n",
        "This dataset comes from a study that looked at the the effect of dynamic stretching on vertical jump height in recreational athletes and collegiate students. It includes key metrics on the participants and their vertical results from before and after dynamic stretching. This will be useful to look at the effect that dynamic stretching has on vertical jump and if other factors with the participants play any role.\n",
        "\n",
        "[Source Link](https://data.mendeley.com/datasets/z7dbpvn64g/1)\n",
        "\n",
        "[Link to dataset](https://github.com/anly501/dsan-5000-project-thm12/blob/main/data/00-raw-data/stretching.csv)\n",
        "\n",
        "![](images/stretching.png)\n",
        "\n"
      ]
    },
    {
      "cell_type": "markdown",
      "metadata": {},
      "source": [
        "# Text Gathering"
      ]
    },
    {
      "cell_type": "markdown",
      "metadata": {},
      "source": [
        "### Wikipedia API text data\n",
        "\n",
        "This is text data from the Wikipedia page on basketball that was queried using the Wikipedia API. I included this data with the intention to look at what common words appear on the page and therefore are most associated with the sport of basketball, specifically words associated with physical attributes and skills. The code used to query the data is below.\n",
        "\n",
        "[Source Link](https://wikipedia.readthedocs.io/en/latest/code.html)\n",
        "\n",
        "[Link to datset](https://github.com/anly501/dsan-5000-project-thm12/blob/main/dsan-website/5000-website/wikipedia_text.txt)\n"
      ]
    },
    {
      "cell_type": "code",
      "execution_count": 2,
      "metadata": {},
      "outputs": [],
      "source": [
        "\n",
        "import wikipedia\n",
        "\n",
        "wikipedia.search(\"basketball\", results=10, suggestion=False)\n",
        "\n",
        "#wikipedia api swapping baseball and basketball for some reason\n",
        "page=wikipedia.page(title='baseball')\n",
        "text = page.content\n",
        "\n",
        "with open(\"wikipedia_text.txt\", 'w', encoding='utf-8') as file:\n",
        "    file.write(text)\n"
      ]
    },
    {
      "cell_type": "markdown",
      "metadata": {},
      "source": [
        "### News API text data\n",
        "\n",
        "This text data was queried from the News API and containers articles with the word \"basketball\" in the description. I want to run a similar analysis with this as with the Wikipedia text data. The code used to query the data is below.\n",
        "\n",
        "[Source Link](https://newsapi.org/docs)\n",
        "\n",
        "[Link to datset](https://github.com/anly501/dsan-5000-project-thm12/blob/main/dsan-website/5000-website/news_text.txt)"
      ]
    },
    {
      "cell_type": "code",
      "execution_count": 4,
      "metadata": {},
      "outputs": [],
      "source": [
        "import requests\n",
        "import json\n",
        "import re\n",
        "import pandas as pd\n",
        "from sklearn.feature_extraction.text import CountVectorizer\n",
        "\n",
        "baseURL = \"https://newsapi.org/v2/everything?\"\n",
        "total_requests=2\n",
        "verbose=True\n",
        "\n",
        "API_KEY='306919e989964d6ba9f61a0b153c64ba'\n",
        "TOPIC='Basketball'\n",
        "\n",
        "#Query\n",
        "URLpost = {'apiKey': API_KEY,\n",
        "            'q': '+'+TOPIC,\n",
        "            'sortBy': 'relevancy',\n",
        "            'totalRequests': 1}\n",
        "\n",
        "#request data from the server and extract txt data from request into json\n",
        "response = requests.get(baseURL, URLpost) \n",
        "response = response.json() \n",
        "\n",
        "\n",
        "from datetime import datetime\n",
        "timestamp = datetime.now().strftime(\"%Y-%m-%d-H%H-M%M-S%S\")\n",
        " \n",
        "with open(timestamp+'-newapi-raw-data.json', 'w') as outfile:\n",
        "    json.dump(response, outfile, indent=4)\n",
        "\n",
        "json_str = json.dumps(response)\n",
        "\n",
        "with open(\"news_text.txt\", 'w') as file:\n",
        "    file.write(json_str)\n"
      ]
    }
  ],
  "metadata": {
    "kernelspec": {
      "display_name": "Python 3 (ipykernel)",
      "language": "python",
      "name": "python3"
    },
    "language_info": {
      "codemirror_mode": {
        "name": "ipython",
        "version": 3
      },
      "file_extension": ".py",
      "mimetype": "text/x-python",
      "name": "python",
      "nbconvert_exporter": "python",
      "pygments_lexer": "ipython3",
      "version": "3.10.9"
    }
  },
  "nbformat": 4,
  "nbformat_minor": 4
}
