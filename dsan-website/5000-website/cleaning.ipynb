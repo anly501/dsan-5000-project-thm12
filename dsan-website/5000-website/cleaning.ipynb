{
  "cells": [
    {
      "cell_type": "markdown",
      "metadata": {},
      "source": [
        "# Tabular cleaning"
      ]
    },
    {
      "cell_type": "markdown",
      "metadata": {},
      "source": [
        "### Cleaning NBA combine data\n",
        "\n",
        "I cleaned this data with the intent to merge it with NBA player season data. The first thing I had to do with the NBA combine data was adjust the format of the player name column. I changed the format from (Last, First) to (First Last) using strsplit and sapply in R. I also changed the name of the column from \"PLAYER\" to \"Name\" so that can merge the dataset by \"Name\". I then renamed some other columns to be more clear, and dropped those that were not needed. I also made some another version where I got rid of NA values in order to use the dataset for Naive Bayes and other ML models later. One of the combine drills was implemented in 2009, so I removed all values prior to that year. I also added a binary feature that represents if the players maximum vertical is above the mean of the dataset.\n",
        "\n",
        "[Link to code](https://github.com/anly501/dsan-5000-project-thm12/blob/main/codes/01-data-gathering/data_gathering%26cleaning.Rmd)\n",
        "\n",
        "[Link to data](https://github.com/anly501/dsan-5000-project-thm12/blob/main/data/01-modified-data/cleaned_nba_combine.csv)\n",
        "\n",
        "[Link to no NA data](https://github.com/anly501/dsan-5000-project-thm12/blob/main/data/01-modified-data/cleaned_NBA_combine_no_NA.csv)\n",
        "\n"
      ]
    },
    {
      "cell_type": "code",
      "execution_count": 12,
      "metadata": {},
      "outputs": [],
      "source": [
        "#| code-fold: true\n",
        "combine_df = pd.read_csv(\"../../data/01-modified-data/cleaned_NBA_combine.csv\")\n",
        "combine_df = combine_df[combine_df[\"combine_year\"]>2009]\n",
        "combine_df = combine_df.dropna()\n",
        "max_vert_mean = combine_df[\"MAX.VERTICAL\"].mean()\n",
        "combine_df[\"above_max_vert_mean\"] = (combine_df[\"MAX.VERTICAL\"]> max_vert_mean).astype(int)\n",
        "\n",
        "combine_df.to_csv(\"../../data/01-modified-data/cleaned_NBA_combine_no_NA.csv\", index=False)"
      ]
    },
    {
      "cell_type": "markdown",
      "metadata": {},
      "source": [
        "### Cleaning NBA player season \n",
        "\n",
        "I cleaned and subsetting the  NBA player season data to merge it with the combine data. The dataset had duplicate player values for each season. I subsetted the data to only keep one value for each player in order to merge with the NBA combine dataset. I wanted to keep the version of each player in which they had their best season. I did this by keeping the version of each player that had the the most points for the season. Points are generally the most important stat in basketball, and while assists and rebounds are important, total points should be a good indicator of a season in which a player had one of their best years and remained healthy enough to play most of the season. I then deleted a pleathura of columns that would not be useful in indicating in game performance. I also added columns for PPG (points per game), RPG (rebounds per game), and APG (assists per game).\n",
        "\n",
        "[Link to code](https://github.com/anly501/dsan-5000-project-thm12/blob/main/codes/01-data-gathering/data_gathering%26cleaning.Rmd)\n",
        "\n",
        "[Link to data](https://github.com/anly501/dsan-5000-project-thm12/blob/main/data/01-modified-data/cleaned_best_NBA_season_player.csv)"
      ]
    },
    {
      "cell_type": "markdown",
      "metadata": {},
      "source": [
        "### Merging NBA combine and player season data\n",
        "\n",
        "I then merged the subset player season dataset with the NBA combine dataset. I used a full join by Player name in R. I then removed values that did not have combine data by removing rows that did not have a value for \"combine_year\".\n",
        "\n",
        "[Link to code](https://github.com/anly501/dsan-5000-project-thm12/blob/main/codes/01-data-gathering/data_gathering%26cleaning.Rmd)\n",
        "\n",
        "[Link to data](https://github.com/anly501/dsan-5000-project-thm12/blob/main/data/01-modified-data/cleaned_NBA_combined.csv)"
      ]
    },
    {
      "cell_type": "markdown",
      "metadata": {},
      "source": [
        "### Cleaning Olympic Track and Field data\n",
        "\n",
        "The Olympic Track and Field dataset was already pretty clean, so I just created a subset that only included the High jump event. I then renamed the result column to Best Height (m).\n",
        "\n",
        "[Link to data](https://github.com/anly501/dsan-5000-project-thm12/blob/main/data/01-modified-data/cleaned_high_jump.csv)"
      ]
    },
    {
      "cell_type": "code",
      "execution_count": 3,
      "metadata": {},
      "outputs": [],
      "source": [
        "#| code-fold: true\n",
        "import pandas as pd\n",
        "import numpy as np\n",
        "\n",
        "#subset track data\n",
        "olympic_track= pd.read_csv(\"../../data/00-raw-data/olympic_track.csv\")\n",
        "high_jump = olympic_track[olympic_track[\"Event\"].str.contains(\"High Jump\", case=False, na=False)]\n",
        "high_jump = high_jump.rename(columns={\"Result\": \"Best Height (m)\"})\n",
        "high_jump[\"Best Height (m)\"] = pd.to_numeric(high_jump[\"Best Height (m)\"], errors='coerce', downcast='float')\n",
        "high_jump.to_csv(\"../../data/01-modified-data/cleaned_high_jump.csv\")\n",
        "\n"
      ]
    },
    {
      "cell_type": "markdown",
      "metadata": {},
      "source": [
        "### Cleaning NFL combine data\n",
        "\n",
        "The NFL combine data was also already pretty clean, so I only made a few adjustments. I discarded values that did not have a result for standing vertical jump. Some prospects opt out of certain events and tests, but I am really only interested at looking at vertical jump for comparison to NBA prospects, so the prospects who did not test for that event were removed from the dataset. I then disarded values that served as dataset IDs and therefore had no significance for analysis. I finally changed the column name for \"Vertical\" to \"STANDING.VERTICAL\" so it will be easier to join and conduct analysis with the NBA combine dataset in the future.\n",
        "\n",
        "\n",
        "[Link to code](https://github.com/anly501/dsan-5000-project-thm12/blob/main/codes/01-data-gathering/data_gathering%26cleaning.Rmd)\n",
        "\n",
        "[Link to data](https://github.com/anly501/dsan-5000-project-thm12/blob/main/data/01-modified-data/cleaned_NFL_combine.csv)"
      ]
    },
    {
      "cell_type": "markdown",
      "metadata": {},
      "source": [
        "### Cleaning Stretching Study data\n",
        "\n",
        "For the stretching data I changed the column \"Serial\\n No.\" to \"Participant number\", and then changed the values in the gender column to Male or Female rather than 1 or 2.\n",
        "\n",
        "\n",
        "[Link to data](https://github.com/anly501/dsan-5000-project-thm12/blob/main/data/01-modified-data/cleaned_stretching.csv)"
      ]
    },
    {
      "cell_type": "code",
      "execution_count": 2,
      "metadata": {},
      "outputs": [
        {
          "name": "stdout",
          "output_type": "stream",
          "text": [
            "   Participant number  Group  Age  Gender  Height ( Cm )  Weight ( Kg )   BMI  \\\n",
            "0                   1      1   21    Male         172.72             68  22.8   \n",
            "1                   2      1   23    Male         190.50             98  27.0   \n",
            "2                   3      1   21    Male         180.30             74  22.8   \n",
            "3                   4      1   19  Female         162.50             70  27.2   \n",
            "4                   5      1   20  Female         162.50             52  19.7   \n",
            "\n",
            "   Vertical jump\\n height ( Pre ) ( Cm )  \\\n",
            "0                                     39   \n",
            "1                                     32   \n",
            "2                                     49   \n",
            "3                                     24   \n",
            "4                                     27   \n",
            "\n",
            "   Vertical jump\\n height ( Post ) ( Cm )  \n",
            "0                                    37.5  \n",
            "1                                    35.0  \n",
            "2                                    48.0  \n",
            "3                                    24.0  \n",
            "4                                    26.0  \n"
          ]
        }
      ],
      "source": [
        "#| code-fold: true\n",
        "#clean stretching data\n",
        "stretching= pd.read_csv(\"../../data/00-raw-data/stretching.csv\")\n",
        "stretching = stretching.rename(columns={\"Serial\\n No.\": \"Participant number\"})\n",
        "stretching[\"Gender\"] = stretching[\"Gender\"].replace({1: \"Male\", 2: \"Female\"})\n",
        "\n",
        "stretching.to_csv(\"../../data/01-modified-data/cleaned_stretching.csv\")\n"
      ]
    },
    {
      "cell_type": "markdown",
      "metadata": {},
      "source": [
        "# Text cleaning"
      ]
    },
    {
      "cell_type": "markdown",
      "metadata": {},
      "source": [
        "### News API cleaning\n",
        "\n",
        "\n",
        "For the text data I started by defining a function list_string_cleaner to remove special characters, punctuation, and multiple spaces from a list of strings. The extract_content function was then created to extract the 'content' from the input data and store it in a new list. After that, I used the join_lists function to concatenate the cleaned content strings. I applied the list_string_cleaner function to the \"cleaned_news_text\" column of the DataFrame, ensuring that each string in the column underwent the specified cleaning processes. Next, I utilized the Natural Language Toolkit (NLTK) for lemmatization and defined custom stopwords and stoplemmas. The remove_special_chars and remove_digits functions were introduced to handle punctuation and digits, respectively. The clean function was designed to lowercase the text, tokenize sentences and words, remove stopwords, digits, special characters, and lemmatize words. Finally, I performed vectorization using Count Vectorizer, specifying parameters for maximum document frequency and minimum document count, and saved the resulting feature names and matrix using joblib."
      ]
    },
    {
      "cell_type": "code",
      "execution_count": 11,
      "metadata": {},
      "outputs": [
        {
          "name": "stderr",
          "output_type": "stream",
          "text": [
            "/var/folders/sz/m07m37v53zbbxzbhqb8tjxjh0000gn/T/ipykernel_3831/4005829218.py:61: SettingWithCopyWarning: \n",
            "A value is trying to be set on a copy of a slice from a DataFrame.\n",
            "Try using .loc[row_indexer,col_indexer] = value instead\n",
            "\n",
            "See the caveats in the documentation: https://pandas.pydata.org/pandas-docs/stable/user_guide/indexing.html#returning-a-view-versus-a-copy\n",
            "  sub_df[\"cleaned_news_text\"] = sub_df[\"uncleaned_news_text\"].apply(extract_content)\n",
            "/var/folders/sz/m07m37v53zbbxzbhqb8tjxjh0000gn/T/ipykernel_3831/4005829218.py:63: SettingWithCopyWarning: \n",
            "A value is trying to be set on a copy of a slice from a DataFrame.\n",
            "Try using .loc[row_indexer,col_indexer] = value instead\n",
            "\n",
            "See the caveats in the documentation: https://pandas.pydata.org/pandas-docs/stable/user_guide/indexing.html#returning-a-view-versus-a-copy\n",
            "  sub_df[\"cleaned_news_text\"] = sub_df[\"cleaned_news_text\"].apply(list_string_cleaner)\n",
            "/var/folders/sz/m07m37v53zbbxzbhqb8tjxjh0000gn/T/ipykernel_3831/4005829218.py:64: SettingWithCopyWarning: \n",
            "A value is trying to be set on a copy of a slice from a DataFrame.\n",
            "Try using .loc[row_indexer,col_indexer] = value instead\n",
            "\n",
            "See the caveats in the documentation: https://pandas.pydata.org/pandas-docs/stable/user_guide/indexing.html#returning-a-view-versus-a-copy\n",
            "  sub_df[\"cleaned_news_text\"] = sub_df[\"cleaned_news_text\"].apply(join_lists)\n"
          ]
        },
        {
          "name": "stdout",
          "output_type": "stream",
          "text": [
            "['This week saw MAGA Republicans engage in extremist arm wrestling in the House speaker race and the sins of the 2020 election subversion scheme begin to catch up with Donald Trumps closest allies. On … [+6676 chars]', 'Over the weekend, WorldCon announced the Hugo Award Winners in Chengdu, China, this years host city for one of the oldest genre conventions in the world. \\r\\nThis year was notable because Chengdu World… [+10058 chars]', 'TikTok tells us to do a lot of things in the name of beauty. A few examples: Reshape your teeth using a nail file; swap makeup primer for personal lubricant; slather yourself in beer before sitting o… [+3803 chars]', 'Universal\\xa0Destinations &amp; Experiences revealed today the name of the company’s first-ever permanent horror experience:\\xa0Universal\\xa0Horror Unleashed.\\u202f\\xa0\\r\\nThe new concept\\u202f– to be located at Area15 in L… [+2707 chars]', 'Chengdu, China Chengdu Worldcon, the 81st World Science Fiction Convention, has announced the winners of the 2023 Hugo Awards, Lodestar Award for Best Young Adult Book, and Astounding Award for Best … [+9587 chars]', 'Play: StreamsongLocated roughly 90 minutes southeast of Orlando is a hidden jewel of state-side links golf. Streamsong is a true destination, offering three Top 100-rated courses built on a former mi… [+6925 chars]', 'Is the role of a spinoff to stand on its own and branch off from the series from which it originated, or is it supposed to broaden its world and serve as a complement to it? The answer probably lies … [+7948 chars]', 'Having recently introduced environmentally friendly sneakers the likes of the Interact Run, Nike is still clearly making an effort to decrease their carbon footprint. And alongside implementing both … [+817 chars]', 'Les aventures de Rand, Nynaeve, Moiraine et les autres touchent pour le moment à leur fin, au terme dune saison 2 largement inégale. Mais si la série vous manque déjà, vous devriez trouver un certain… [+11176 chars]', 'Olympic 6s are back, this time they’re made suitable for the green. Dropping later on this month, here are official images of the Air Jordan 6 Low Golf Olympic.\\r\\nDone in the same fashion as the Air J… [+921 chars]', 'Bad to the bone.\\r\\nFour people have been accused of stealing $1 million in dinosaur bones from public land in Utah and selling and shipping the prehistoric findings to China, the DOJ revealed Thursday… [+3966 chars]', 'Bellingham scaling remarkable heights\\r\\nJude Bellingham started running deep in his own half and kept on going, his legs pumping and defenders trailing in his wake as the space opened up and the Wembl… [+7198 chars]', 'Nike’s Dunk Mid is unquestionably the “ugly duckling” of Peter Moore’s classic basketball sneaker from 1985. Recent memory, however, has seen the silhouette emerge in compelling styles, surely turnin… [+1026 chars]', 'Nike’s popular Dunk Low model surfaces yet again in a perfect colorway for those who can’t stay away from Travis Scott’s affinity for earth tones.\\r\\nAt a quick glance, it’s difficult to not to get hit… [+976 chars]', 'Beauty runs more than skin deep. Proper nutrition plays an important role in everything from skin health to hair growth to nail strength. A nutritious diet sets the tone for the overall health of our… [+4395 chars]', 'Arriving later on this year, here are official images of the Social Status x Nike Mac Attack in the Cobblestone colorway. This release is set to be the\\xa0third color option in their exclusive four-piec… [+1144 chars]', 'Currently slated to arrive next year, here are official images of the Nike Dunk Low Next Nature in the Midnight Navy and Team Gold colorway.\\r\\nLabeled as a women’s exclusive colorway of the model, Nex… [+974 chars]', 'ColorwayBlack/Particle Grey-Wolf Grey-Pink Rise\\r\\nRelease DateNovember 3, 2023\\r\\nWho’s excited for the debut of the Nike LeBron 21? Already previewed in a handful of colorways, today we give you an off… [+1200 chars]', 'Posted onOctober 24, 2023\\r\\n\\xa0\\xa0\\r\\nPosted byJohn Scalzi\\xa0\\xa0\\r\\n \\xa0\\r\\nLeave a Comment\\r\\nLots of things happened whilst I was on tour that I didn’t address because a) I was traveling, b) I was doing events, c) I … [+4175 chars]', 'After Rep. Kevin McCarthys ignominious removal from the House speakership last week, Rep. Steve Scalise has been pushed forward as the House GOPs nominee for speaker and the smiling face of Republica… [+5841 chars]', \"High-flying, adored ... (Image via Instagram)\\nABOVE: Some of these Instagram hardbodies have other lives — a pilot!\\n\\nBELOW: Keep reading for Matt's boner, Old Guys in Bed, Trump thumped and more \\xa0...… [+1183 chars]\", 'Reebok teams up with outdoor and active lifestyle brand Spyder to bring to you the limited edition Spyder x Reebok Collection. Previewed below, this capsule\\xa0leverages Reebok and Spyders iconic status… [+1744 chars]', 'Gen Vis in full swing with exploding penises, bronze crotches ripped open, and a supernova suicide that lets viewers know this season will have the highest of stakes from the very start. The Boys int… [+1718 chars]', 'Want some more The Simpsons x adidas collab? Say less and get a first look at the upcoming The Simpsons x adidas adiFOM Superstar Clouds.\\r\\nThis latest unveiled pair from the forthcoming The Simpsons … [+977 chars]', 'As a follow up to The Simpsons x adidas Forum Low Living Room collab we shared with you yesterday, we now give you a first look at another upcoming The Simpsons x adidas collaboration, The Simpsons x… [+925 chars]', \"Mary Trump has issued a warning about the new speaker of the House, Mike Johnson.\\r\\nOn Wednesday, House Republicans elected Johnson following weeks of turmoil over who would be the chamber's next lead… [+3426 chars]\", 'After making its debut last month in the “Dualism” colorway, the New Balance TWO WXY V4 has now surfaced in the all-new Atmosphere colorway. Now up for grabs, let’s see what this new New Balance bask… [+1635 chars]', 'This is an article version of the CBS Sports HQ AM Newsletter, the ultimate guide to every day in sports.\\xa0You can sign up to get it in your inbox every weekday morning here.\\r\\nGood morning to everyone… [+8621 chars]', 'If you were hoping to get your hands on some new adidas Yeezys this fall/holiday season well there’s been a change of plans as adidas has cancelled any adidas Yeezy releases indefinitely. According t… [+1204 chars]', 'A field crew studying fossil tracks near Lake Powell recently discovered an \"extremely rare\" set of prehistoric fossils along a stretch of the reservoir in Utah, officials announced on Friday. The cr… [+2919 chars]', 'Summary\\r\\n<ul><li>\\r\\n Many of the best horror films of 2023 went unnoticed due to the dominance of popular franchises and the overwhelming release of Hollywood films. </li><li>\\r\\n Independent and foreig… [+9512 chars]', \"YOU MAY NOT know much about \\r\\nmagnesium, but it's really important you get enough of it. Getting an adequate amount of the nutrient is essential for your overall health. Magnesium is an unsung hero o… [+3105 chars]\", 'The House of Representatives is playing out a Ukraine dynamic that UK voters might recognize from Brexit. After Theresa May’s gambit of snap elections backfired, she was left with a small majority in… [+9866 chars]', \"Generally, exposing a young child to intentionally scary media isn't advisable. Its the sort of behavior of a babysitter with a taste for chaos, who knows theyll be long gone by the time the nightmar… [+15830 chars]\", 'PARK CITY, UT - JANUARY 24: Actress Maika Monroe from \"It Follows\" poses for a portrait at the ... [+] Village at the Lift Presented by McDonald\\'s McCafe during the 2015 Sundance Film Festival on Jan… [+14105 chars]', 'House Majority Leader Steve Scalise emerges from a House GOP conference meeting on Wednesday after his colleagues chose him to be their nominee for speaker.\\r\\nChip Somodevilla/Getty Images\\r\\nMajority L… [+6773 chars]', 'Four people have been indicted after allegedly purchasing and selling over $1 million worth of stolen dinosaur bones to China, according to federal authorities.\\r\\nBetween March 2018 and March 2023, th… [+3330 chars]', 'It started a few weeks ago. Friends and colleagues chatting over texts and direct messages, casually slotting it into conversation. Hey, is Wheel of Time good now? There is some exhaustion that inevi… [+5061 chars]', 'Over the course of the 2023/24 season we will hear from a wide range of local people who have benefitted from Arsenal in the Community projects. Here we find out more about how our latest intake on t… [+3953 chars]', \"The NFL trade deadline takes place on Oct. 31. Teams are nearly out of time to add significant outside talent this season, and with that in mind, FOX Sports' staff of NFL writers collaborated to come… [+12312 chars]\", \"The NFL trade deadline takes place on Oct. 31. Teams are nearly out of time to add significant outside talent this season, and with that in mind, FOX Sports' staff of NFL writers collaborated to come… [+12312 chars]\", \"As the MCU's Phase 5 continues with Loki Season 2's debut, and the DCU reboots itself under James Gunn, it's important to remember that they didn't always hold a monopoly on superhero movies. Or even… [+21994 chars]\", \"They like to say they're related by blood, but they've never met.\\r\\nUntil this weekend, that is.\\r\\nBack in 2012, Cody Jordan signed up for the bone marrow donation list in his hometown of Tupelo, Miss.… [+3261 chars]\", 'Thats right. Our entire global industrial civilization is going to collapse. And soon, which means within the lifetimes of most people alive today.\\r\\nI realize this is quite the claim, and a pretty te… [+64124 chars]', \"President Joe Biden makes his case for providing aid for Israel and Ukraine in a rare prime-time speech. The House's temporary speaker threatens to quit. And new research warns against dangers of ele… [+7771 chars]\", 'Teams across the NFL are hitting the practice field for the first time this week to gear up for Week 5. As is the case pretty much every week in the league, there are a number of injury situations th… [+10596 chars]', 'Welcome to Week 5 of the 2023 NFL season. As is the case pretty much every week, there are a number of injury situations that are worth monitoring. Friday, the 24 teams that play this Sunday will rev… [+10104 chars]', \"Here's a list of neglected but eminently useful words that visitors to this site -- and we, to be downright honest -- would like to bring back into fashion. You're right -- some never have been in fa… [+166437 chars]\", 'This weekend, the winners of the Hugo Awards, the Astounding Award for Best New Writer, and the Lodestar Award for Best Young Adult Book were announced at the 81st World Science Fiction Convention (W… [+8986 chars]', 'Federal prosecutors today announced charges against four people allegedly involved in a massive dinosaur bone smuggling scheme. Thousands of pounds of dinosaurs and other fossils were secretly excava… [+4820 chars]', '<ul><li>The Springboks were crowned Rugby World Cup Champions on Saturday evening in France.</li><li>In an epic final, South African ran out 12-11 winners against the All Blacks.</li><li>They have no… [+4072 chars]', 'Populations of dogs and cats\\r\\nAs noted previously, AVMA [36] estimates of the US dog and cat populations were used, to provide the most conservative estimates of the impacts of dog and cat food. The … [+36858 chars]', 'Teams across the NFL are hitting the practice field for the first time this week to gear up for Week 5. As is the case pretty much every week in the league, there are a number of injury situations th… [+9043 chars]', 'CLAYTON A longtime Hillsdale employee was charged Wednesday after a Fox 2 photojournalist was run over in August with a public works truck.\\r\\nEarl D. Longmeyer, 57, was charged with driving in a carel… [+2558 chars]', 'Books &amp; the Arts / October 3, 2023\\r\\nThe Good Life\\r\\nWhat can we learn from the history of utopianism?\\r\\nWhat Can We Learn From the History of Utopianism? \\r\\nIn Everyday Utopias, Kristen Ghodsee look… [+13811 chars]', 'The screams can be heard from outside the house a raucous cacophony punctuated by a single, high-pitched shriek.\\r\\nIts 7 a.m. and Ive just made the nail-biting,hairpin turn-studded drive up Las Flores… [+12817 chars]', 'Ana Navarro has a bone to Pinkett with Jada.\\r\\n“The View” host held nothing back when addressing Jada Pinkett Smith’s recent announcement that she and\\xa0Will Smith\\xa0have actually been\\xa0secretly separated\\xa0… [+2596 chars]', 'Part of the Series\\r\\nIn retaliation against the Palestinians in Gaza for Hamass October 7 killing of hundreds of Israeli civilians, Israel has intensified its 16-year siege of Gaza to a complete siege… [+14923 chars]', 'Here\\'s what BuzzFeed Shopping writer\\xa0Jordan Grigsby has to say about this:\\xa0\\r\\n\"You see that shine? That volume? That bounce? Babyyyy my hair is FLAWLESS. Witchcraft, right? Oh, and if you could feel i… [+1275 chars]', 'The new speaker of the House of Representatives opened up about his Christian faith and how it informs his politics in an interview with The Daily Signal, in which he stressed the importance of treat… [+13419 chars]', 'The famed black metal stalwarts Krieg recently celebrated the release of their latest triumph, Ruiner. Of course, this American institution of musical integrity has proved once again that they remain… [+15586 chars]', \"The Rolling Stones - 'Hackney Diamonds' review: they've still got itFor a long while, the response to each new Rolling Stones announcement has been less about the music and more to do with their age.… [+5192 chars]\", 'New Zealand defended for a final 37-phases to help seal a narrow victory over Ireland in their quarter-final\\r\\n<table><tr><th>2023 Rugby World Cup semi-final: Argentina v New Zealand</th></tr>\\r\\n<tr><t… [+5665 chars]', 'Week 5 got started with a bang for the Chicago Bears, who ended their 14-game losing streak with a 40-20 thumping of the Washington Commanders on Thursday night in Landover, Maryland.\\r\\nJustin Fields … [+6742 chars]', 'Skip to comments.\\r\\nLEAKED: Email From Lobbying Firm with Ties to RINO Mitch McConnell Organizing Phone Call with Jim Jordan Holdout Rep. Don Bacon on Eve of Speaker VoteThe Gateway Pundit ^\\r\\n | Octob… [+3310 chars]', 'Welcome to the Friday edition of the Pick Six newsletter.\\xa0\\r\\nThe NFL lost a legend on Thursday with the death of Dick Butkus, who passed away just hours before the Bears were set to take the field aga… [+15496 chars]', \"Welcome to the Thursday edition of the Pick Six newsletter!\\r\\nI'm going to start things off here by saying that if you see a Bears fan today, please hug them, because they probably need it. The Bears … [+15502 chars]\", 'The development of the earliest cities in Mesopotamia and the Middle East led to a substantial increase in violence between inhabitants. Laws, centralized administration, trade and culture then cause… [+1891 chars]', 'JONATHAN RICHMAN Backed by Tommy Larkins on drums, the former Modern Lovers leader brings his vast songbook and irrepressible charm which often causes his concerts to tip into the jubilant to Somervi… [+13812 chars]', 'I resoconti dalla Worldcon di Chengdu sono entusiastici: una sede spettacolare, allestita in modo altrettanto spettacolare, partecipazione del pubblico mai vista, con appassionati provenienti da ogni… [+8348 chars]', 'This article was originally published in 2015. The ranking has been updated to include\\xa0Killers of the Flower Moon, which is out in theaters now.\\r\\nLeonardo\\xa0DiCaprio\\xa0has been one of the biggest movie s… [+26891 chars]', 'An experimental replica of shell beads with Natufian red organic colorant made from the roots of Rubiaceae plants\\r\\n Laurent Davin, CC-BY 4.0\\r\\nThe flash of bright red caught Laurent Davins eye. He was… [+8875 chars]', \"The United Kingdom has rich culture, with many of the world's finest gardens, castles, and universities. At the same time, it nourishes a parallel history of criminal mayhem and loutishness probably … [+8363 chars]\", 'Many movies consist of a protagonist and antagonist working against one another, but its not always the villain who takes the main character down. Here are 24 movies where the main characters are the… [+8794 chars]', 'Halloween is the time of year when horror appeals to all ages and backgrounds, but especially so for the young and young at heart. Luckily, theres no shortage of family-friendly frights on streaming … [+12474 chars]', 'Halloween is the time of year when horror appeals to all ages and backgrounds, but especially so for the young and young at heart. Luckily, theres no shortage of family-friendly frights on streaming … [+12474 chars]', 'Midtowns lunchtime rush will soon have a new gluten-free contender.\\r\\nSpringbone Kitchen is opening its eighth location at 1155 Avenue of the Americas after signing a 15-year lease for 1,973 square fe… [+2640 chars]', \"Week 8 in the NFL season wasn't full of upsets like last week, but there were plenty of close games in the fourth quarter. 12 of 14 games (85.7%) have been within one score (eight points) in the four… [+19329 chars]\", 'Welcome to SNX DLX, your weekly roundup of the best sneakers to hit the internet. Today is going to be a tough week for Jordan fans, especially if your go-to is the Air Jordan 1. The famous silhouett… [+6621 chars]', 'STILL DOUBTS OVER GAZA CARNAGE\\r\\nUS President JoeBiden says the hospital blast that killed 471 Palestinians appears to have been “done by the other team” — that is, not Israel — the ABC reports. He la… [+12513 chars]', 'Nighty Night Has Received 3 Million Downloads Over 41 Episodes Since Its Debut\\r\\nLOS ANGELES, CA, Oct. 16, 2023 (GLOBE NEWSWIRE) -- via NewMediaWire -PodcastOne (NASDAQ: PODC), a leading podcast platf… [+7405 chars]', 'While documenting fossil tracksites along a stretch of Lake Powell, a Glen Canyon National Recreation Area (Glen Canyon NRA) field crew discovered the first tritylodontid bonebed found in the Navajo … [+4103 chars]', 'As an ardent devotee of the written word and an avid connoisseur of cinematic storytelling, I’ve always been enthralled by the experience of witnessing beloved fantasy novels come to life on the scre… [+10321 chars]', \"The Week 5 NFL schedule for the 2023 season is stacked with great matchups, and we've got you covered with what you need to know heading into the weekend. Our NFL Nation reporters bring us the bigges… [+31441 chars]\", 'Folks, there are many library systems you can turn to for your end-of-year Best Of lists when it comes to children’s books.\\r\\nNew York Public Library does one.\\r\\nChicago Public Library does one.\\r\\nAnd .… [+28488 chars]', 'Traveling can be a fun adventure, whether by yourself, with friends or family, or on a trip with your partner. Some people like their vacation packed with events and even use an itinerary to help pla… [+20041 chars]', 'On his bucket list was to be like Charlie Bucket.\\r\\nAnd sure enough, Joe Christianson plucked his version of a Willy Wonka golden ticket.\\r\\nAs the story goes, Christianson became fascinated by Jordan W… [+5841 chars]', 'The last time the Packers had a bye, they had just beaten the Bears, to improve to 5-8 and set the table for an unlikely (and ultimately failed) run at a playoff spot.\\r\\nThis year, their bye is coming… [+8620 chars]', 'Skip to comments.\\r\\nHamas Leader and Founding Member Khaled Mashal Calls for Global Muslim Uprising, Asking for Muslims Blood and Souls to be Sacrificed for Palestine This Upcoming Friday of Al-Aqsa F… [+4813 chars]', 'On his bucket list was to be like Charlie Bucket.\\r\\nAnd sure enough, Joe Christianson plucked his version of a Willy Wonka golden ticket.\\r\\nAs the story goes, Christianson became fascinated by Jordan W… [+5862 chars]', 'Hey, horror enthusiasts! Halloween is just around the corner. Let’s dive into some of the scariest horror movies that have ever haunted our dreams. These films have left an indelible mark on my psych… [+12461 chars]', 'Intertwined in president of baseball operations David Stearns search for new talent with the Mets will be deciding how to proceed with some of the old.\\r\\nThe Mets have 16 arbitration-eligible players,… [+7938 chars]', '<table><tr><td>\\r\\nREVENUE BY REGION\\r\\n</td><td></td><td></td><td></td><td></td></tr><tr><td></td><td></td><td></td><td></td><td></td></tr><tr><td>\\r\\n(in CHF million)\\r\\n</td><td>\\r\\nQ3 2023\\r\\n</td><td>\\r\\nQ3 2… [+11429 chars]', 'The start of the 2023 MLB Playoff season brought plenty of surprises, but that’s what the playoffs are about right? The top seeds in both the AL and the NL were sent home as the Baltimore Orioles wer… [+4294 chars]', 'The development of the earliest cities in Mesopotamia and the Middle East led to a substantial increase in violence between inhabitants. Laws, centralized administration, trade and culture then cause… [+3729 chars]', 'Maybe youre a Swiftie or perhaps youre only Swiftie-adjacent. Three hours of Taylor Swift: The Eras Tour will either be way too long for you or not nearly long enough. Undoubtedly, though, there are … [+9202 chars]', 'Abstract\\r\\nAlthough current evidence suggests increased risk of obesity, insulin resistance, and metabolic alterations in patients with polycystic ovary syndrome (PCOS), especially of a hyperandrogeni… [+37407 chars]', 'A woman fired several gunshots in the lobby of a Connecticut police station but bulletproof glass prevented anyone from being injured, authorities said Friday as they charged her with attempted murde… [+10699 chars]', 'As Shedeur Sanders continues to make national headlines with each game for the Colorado Buffaloes, many wonders whether the young quarterback will use this attention to enter the NFL Draft.\\xa0\\r\\nQuarter… [+5112 chars]', 'The recent surge in antisemitism worldwide following the Israel-Hamas war has sparked concern among Jewish and Israeli communities in the United States and Europe. Daily incidents of antisemitism hav… [+5947 chars]']\n"
          ]
        },
        {
          "name": "stderr",
          "output_type": "stream",
          "text": [
            "/var/folders/sz/m07m37v53zbbxzbhqb8tjxjh0000gn/T/ipykernel_3831/4005829218.py:129: SettingWithCopyWarning: \n",
            "A value is trying to be set on a copy of a slice from a DataFrame.\n",
            "Try using .loc[row_indexer,col_indexer] = value instead\n",
            "\n",
            "See the caveats in the documentation: https://pandas.pydata.org/pandas-docs/stable/user_guide/indexing.html#returning-a-view-versus-a-copy\n",
            "  sub_df[\"cleaned_news_text\"] = sub_df[\"cleaned_news_text\"].apply(clean)\n"
          ]
        },
        {
          "data": {
            "text/plain": [
              "['text_matrix.pkl']"
            ]
          },
          "execution_count": 11,
          "metadata": {},
          "output_type": "execute_result"
        }
      ],
      "source": [
        "#| code-fold: true\n",
        "import requests\n",
        "import json\n",
        "import re\n",
        "import pandas as pd\n",
        "from sklearn.feature_extraction.text import CountVectorizer\n",
        "import joblib\n",
        "from nltk.tokenize import word_tokenize\n",
        "from nltk.stem import WordNetLemmatizer\n",
        "lemmatizer = WordNetLemmatizer()\n",
        "import joblib\n",
        "from tqdm import tqdm\n",
        "tqdm.pandas()\n",
        "import string\n",
        "from collections import Counter\n",
        "from nltk.tokenize import sent_tokenize, word_tokenize\n",
        "from nltk.stem.wordnet import WordNetLemmatizer\n",
        "from nltk.corpus import stopwords\n",
        "\n",
        "\n",
        "df = pd.read_pickle(\"my_df.pkl\")\n",
        "sub_df = df.head(99)\n",
        "#cleaning funtion\n",
        "def list_string_cleaner(input_list):\n",
        "    temp = []\n",
        "    for input_string in input_list:\n",
        "        try: \n",
        "            out=re.sub(r\"\"\"\n",
        "                        [,.;@#?!&$-]+  \n",
        "                        \\ *           \n",
        "                        \"\"\",\n",
        "                        \" \",          \n",
        "                        input_string, flags=re.VERBOSE)\n",
        "\n",
        "            out = re.sub('[’.]+', '', input_string)\n",
        "\n",
        "            out = re.sub(r'\\s+', ' ', out)\n",
        "\n",
        "            out=out.lower()\n",
        "        except:\n",
        "            print(\"ERROR\")\n",
        "            out=''\n",
        "        temp.append(out)\n",
        "\n",
        "    return temp\n",
        "\n",
        "def extract_content(input):\n",
        "    cleaned_data = []\n",
        "    input_articles = input['articles']\n",
        "    for article in input_articles:\n",
        "\n",
        "        if 'content' in article:\n",
        "                cleaned_data.append(article['content'])\n",
        "\n",
        "    \n",
        "    return cleaned_data\n",
        "\n",
        "def join_lists(list):\n",
        "    return \" \".join(list)\n",
        "\n",
        "\n",
        "#cleaning to strings\n",
        "\n",
        "sub_df[\"cleaned_news_text\"] = sub_df[\"uncleaned_news_text\"].apply(extract_content)\n",
        "print(sub_df[\"cleaned_news_text\"].iloc[1])\n",
        "sub_df[\"cleaned_news_text\"] = sub_df[\"cleaned_news_text\"].apply(list_string_cleaner)\n",
        "sub_df[\"cleaned_news_text\"] = sub_df[\"cleaned_news_text\"].apply(join_lists)\n",
        "\n",
        "#string cleaning\n",
        "\n",
        "lemmatizer = WordNetLemmatizer()\n",
        "custom_stopwords = [\n",
        "    'a', 'about', 'all', 'also', 'an', 'and', 'are', 'as', 'at',\n",
        "    'be', 'both', 'but', 'by', 'der', 'die', 'em', 'da', 'can',\n",
        "    'do',\n",
        "    'for', 'from',\n",
        "    'get', 'go',\n",
        "    'had', 'have',\n",
        "    'i', 'if', 'in', 'is', 'it',\n",
        "    'me', 'more', 'my',\n",
        "    'no', 'not',\n",
        "    'of', 'on', 'one', 'or', 'out',\n",
        "    'should', \"should've\", 'so',\n",
        "    'take', 'than', 'that', 'the', 'this', 'to', 'too',\n",
        "    'up',\n",
        "    'very',\n",
        "    'want', 'was', 'we', 'were', 'what', 'where', 'which', 'with', 'would', \"would've\",\n",
        "    'you', 'your',\n",
        "]\n",
        "\n",
        "custom_stoplemmas = [\n",
        "    'be',\n",
        "    'ir',\n",
        "    'll',\n",
        "    'nt',\n",
        "    'quot',\n",
        "    'rd',\n",
        "    's',\n",
        "    've'\n",
        "]\n",
        "\n",
        "\n",
        "token_counter = Counter()\n",
        "\n",
        "def remove_special_chars(token):\n",
        "  return token.translate(str.maketrans('', '', string.punctuation))\n",
        "\n",
        "def remove_digits(token):\n",
        "  return ''.join([c for c in token if not c.isdigit()])\n",
        "\n",
        "def clean(text):\n",
        "  cleaned = text.lower()\n",
        "  sents = sent_tokenize(cleaned)\n",
        "  clean_sents = []\n",
        "  # Tokenize each sentence\n",
        "  for cur_sent in sents:\n",
        "    sent_tokens = word_tokenize(cur_sent)\n",
        "    sent_tokens_cleaned = [t for t in sent_tokens if t not in custom_stopwords]\n",
        "    sent_tokens_cleaned = [remove_digits(t) for t in sent_tokens_cleaned]\n",
        "    sent_tokens_cleaned = [t.replace(\"-\", \" \") for t in sent_tokens_cleaned]\n",
        "    sent_tokens_cleaned = [remove_special_chars(t) for t in sent_tokens_cleaned]\n",
        "    sent_tokens_cleaned = [t for t in sent_tokens_cleaned if len(t) > 0]\n",
        "    sent_tokens_cleaned = [lemmatizer.lemmatize(t) for t in sent_tokens_cleaned]\n",
        "    sent_tokens_cleaned = [t for t in sent_tokens_cleaned if t not in custom_stoplemmas]\n",
        "    token_counter.update(sent_tokens_cleaned)\n",
        "    clean_sent = ' '.join(sent_tokens_cleaned)\n",
        "    clean_sents.append(clean_sent)\n",
        "  final = \". \".join(clean_sents)\n",
        "  return final\n",
        "\n",
        "\n",
        "sub_df[\"cleaned_news_text\"] = sub_df[\"cleaned_news_text\"].apply(clean)\n",
        "token_counter.most_common(25)\n",
        "\n",
        "\n",
        "#vectorization\n",
        "\n",
        "corpus = sub_df[\"cleaned_news_text\"].values\n",
        "\n",
        "max_document_freq = 0.4\n",
        "min_document_count = 2\n",
        "\n",
        "cv = CountVectorizer(max_df=max_document_freq, min_df=min_document_count)\n",
        "X = cv.fit_transform(corpus)\n",
        "X.shape\n",
        "feature_names = cv.get_feature_names_out()\n",
        "\n",
        "cv_ng = CountVectorizer(max_df=max_document_freq, min_df=min_document_count)\n",
        "X_ng = cv_ng.fit_transform(corpus)\n",
        "X_ng.shape\n",
        "\n",
        "joblib.dump(feature_names, 'text_names.pkl')\n",
        "joblib.dump(X, 'text_matrix.pkl')"
      ]
    }
  ],
  "metadata": {
    "kernelspec": {
      "display_name": "Python 3 (ipykernel)",
      "language": "python",
      "name": "python3"
    },
    "language_info": {
      "codemirror_mode": {
        "name": "ipython",
        "version": 3
      },
      "file_extension": ".py",
      "mimetype": "text/x-python",
      "name": "python",
      "nbconvert_exporter": "python",
      "pygments_lexer": "ipython3",
      "version": "3.10.9"
    }
  },
  "nbformat": 4,
  "nbformat_minor": 4
}
